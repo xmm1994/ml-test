{
 "cells": [
  {
   "cell_type": "markdown",
   "metadata": {},
   "source": [
    "题目要求:\n",
    "1、请用Python3代码从下列“测试数据”中找出与样本E最相似的前3个样本(代码运行通过并输出结果)\n",
    "2、输出结果示例:E=label:dist,label:dist,label:dist\n",
    "3、将代码提交至:https://github.com/hortor-data/ml-test/sort_top_20190724_002.py\n",
    "\n",
    "测试数据:\n",
    "A,0.55679902,0.65582205,0.32020463,0.99920748,0.97329702\n",
    "D,0.54046995,0.92198106,0.90779059,0.38312245,0.8678798\n",
    "B,0.80244032,0.07441741,0.05449902,0.71137391,0.49830497\n",
    "E,0.97894605,0.63243309,0.15664988,0.04969291,0.69779018\n",
    "C,0.78269515,0.46577525,0.30835287,0.86208522,0.64927529"
   ]
  },
  {
   "cell_type": "code",
   "execution_count": 2,
   "metadata": {
    "collapsed": true
   },
   "outputs": [],
   "source": [
    "data = {'A':[0.55679902,0.65582205,0.32020463,0.99920748,0.97329702],\n",
    "        'B':[0.80244032,0.07441741,0.05449902,0.71137391,0.49830497],\n",
    "        'C':[0.78269515,0.46577525,0.30835287,0.86208522,0.64927529],\n",
    "        'D':[0.54046995,0.92198106,0.90779059,0.38312245,0.8678798]}\n",
    "target = {'E': [0.97894605,0.63243309,0.15664988,0.04969291,0.69779018]}"
   ]
  },
  {
   "cell_type": "markdown",
   "metadata": {},
   "source": [
    "# 1.余弦距离"
   ]
  },
  {
   "cell_type": "code",
   "execution_count": 3,
   "metadata": {
    "collapsed": true
   },
   "outputs": [],
   "source": [
    "import math\n",
    "def cos_dist(p, q):\n",
    "    length = min(len(p), len(q)) #防止出现两个向量长度不一样的异常情况\n",
    "    pq = 0\n",
    "    p_l2 = 0\n",
    "    q_l2 = 0\n",
    "    for i in range(length):\n",
    "        pq += p[i] * q[i]\n",
    "        p_l2 += p[i] * p[i]\n",
    "        q_l2 += q[i] * q[i]\n",
    "    p_l2 = math.sqrt(p_l2)\n",
    "    q_l2 = math.sqrt(q_l2)\n",
    "    return pq / (p_l2 * q_l2)"
   ]
  },
  {
   "cell_type": "markdown",
   "metadata": {},
   "source": [
    "# 2.L2距离"
   ]
  },
  {
   "cell_type": "code",
   "execution_count": 4,
   "metadata": {
    "collapsed": true
   },
   "outputs": [],
   "source": [
    "def l2_dist(p, q):\n",
    "    length = min(len(p), len(q))\n",
    "    dist = 0\n",
    "    for i in range(length):\n",
    "        dist += (p[i] - q[i]) * (p[i] - q[i])\n",
    "    return math.sqrt(dist)"
   ]
  },
  {
   "cell_type": "markdown",
   "metadata": {},
   "source": [
    "# 1.使用余弦距离的计算结果"
   ]
  },
  {
   "cell_type": "code",
   "execution_count": 5,
   "metadata": {},
   "outputs": [
    {
     "name": "stdout",
     "output_type": "stream",
     "text": [
      "{'A': 0.7610215041857444, 'B': 0.7543338572771985, 'C': 0.8114899624737465, 'D': 0.8111420799714693}\n"
     ]
    }
   ],
   "source": [
    "dist = {}\n",
    "for k, v in data.items():\n",
    "    dist[k] = cos_dist(target['E'], v)\n",
    "print(dist)"
   ]
  },
  {
   "cell_type": "code",
   "execution_count": 6,
   "metadata": {},
   "outputs": [
    {
     "data": {
      "text/plain": [
       "[('B', 0.7543338572771985),\n",
       " ('A', 0.7610215041857444),\n",
       " ('D', 0.8111420799714693),\n",
       " ('C', 0.8114899624737465)]"
      ]
     },
     "execution_count": 6,
     "metadata": {},
     "output_type": "execute_result"
    }
   ],
   "source": [
    "dist = sorted(dist.items(), key = lambda x: x[1])\n",
    "dist"
   ]
  },
  {
   "cell_type": "code",
   "execution_count": 7,
   "metadata": {},
   "outputs": [
    {
     "name": "stdout",
     "output_type": "stream",
     "text": [
      "{'B': 0.7543338572771985, 'A': 0.7610215041857444, 'D': 0.8111420799714693}\n"
     ]
    }
   ],
   "source": [
    "#输出排在前三的结果\n",
    "print(dict(dist[:3]))"
   ]
  },
  {
   "cell_type": "markdown",
   "metadata": {},
   "source": [
    "# 2.使用L2距离的计算结果"
   ]
  },
  {
   "cell_type": "code",
   "execution_count": 8,
   "metadata": {},
   "outputs": [
    {
     "name": "stdout",
     "output_type": "stream",
     "text": [
      "{'A': 1.0876521742562442, 'B': 0.911365275187276, 'C': 0.8669705926143423, 'D': 0.990160300354438}\n"
     ]
    }
   ],
   "source": [
    "dist = {}\n",
    "for k, v in data.items():\n",
    "    dist[k] = l2_dist(target['E'], v)\n",
    "print(dist)"
   ]
  },
  {
   "cell_type": "code",
   "execution_count": 9,
   "metadata": {},
   "outputs": [
    {
     "data": {
      "text/plain": [
       "[('C', 0.8669705926143423),\n",
       " ('B', 0.911365275187276),\n",
       " ('D', 0.990160300354438),\n",
       " ('A', 1.0876521742562442)]"
      ]
     },
     "execution_count": 9,
     "metadata": {},
     "output_type": "execute_result"
    }
   ],
   "source": [
    "dist = sorted(dist.items(), key = lambda x: x[1])\n",
    "dist"
   ]
  },
  {
   "cell_type": "code",
   "execution_count": 10,
   "metadata": {},
   "outputs": [
    {
     "name": "stdout",
     "output_type": "stream",
     "text": [
      "{'C': 0.8669705926143423, 'B': 0.911365275187276, 'D': 0.990160300354438}\n"
     ]
    }
   ],
   "source": [
    "#输出排在前三的结果\n",
    "print(dict(dist[:3]))"
   ]
  },
  {
   "cell_type": "markdown",
   "metadata": {},
   "source": [
    "# 3.先对数据特征归一化，然后用L2距离度量"
   ]
  },
  {
   "cell_type": "code",
   "execution_count": 11,
   "metadata": {},
   "outputs": [
    {
     "data": {
      "text/plain": [
       "{'A': [0.55679902, 0.65582205, 0.32020463, 0.99920748, 0.97329702],\n",
       " 'B': [0.80244032, 0.07441741, 0.05449902, 0.71137391, 0.49830497],\n",
       " 'C': [0.78269515, 0.46577525, 0.30835287, 0.86208522, 0.64927529],\n",
       " 'D': [0.54046995, 0.92198106, 0.90779059, 0.38312245, 0.8678798],\n",
       " 'E': [0.97894605, 0.63243309, 0.15664988, 0.04969291, 0.69779018]}"
      ]
     },
     "execution_count": 11,
     "metadata": {},
     "output_type": "execute_result"
    }
   ],
   "source": [
    "merge_data = dict(list(data.items()) + list(target.items()))\n",
    "merge_data"
   ]
  },
  {
   "cell_type": "code",
   "execution_count": 12,
   "metadata": {
    "collapsed": true
   },
   "outputs": [],
   "source": [
    "import numpy as np"
   ]
  },
  {
   "cell_type": "code",
   "execution_count": 13,
   "metadata": {},
   "outputs": [
    {
     "data": {
      "text/plain": [
       "array([[0.55679902, 0.65582205, 0.32020463, 0.99920748, 0.97329702],\n",
       "       [0.80244032, 0.07441741, 0.05449902, 0.71137391, 0.49830497],\n",
       "       [0.78269515, 0.46577525, 0.30835287, 0.86208522, 0.64927529],\n",
       "       [0.54046995, 0.92198106, 0.90779059, 0.38312245, 0.8678798 ],\n",
       "       [0.97894605, 0.63243309, 0.15664988, 0.04969291, 0.69779018]])"
      ]
     },
     "execution_count": 13,
     "metadata": {},
     "output_type": "execute_result"
    }
   ],
   "source": [
    "values = np.array(list(merge_data.values()), dtype='float64')\n",
    "values"
   ]
  },
  {
   "cell_type": "code",
   "execution_count": 14,
   "metadata": {},
   "outputs": [
    {
     "data": {
      "text/plain": [
       "array([[0.0372405 , 0.68597166, 0.311389  , 1.        , 1.        ],\n",
       "       [0.59745644, 0.        , 0.        , 0.6968624 , 0.        ],\n",
       "       [0.55242509, 0.46174448, 0.29749954, 0.85558699, 0.31783757],\n",
       "       [0.        , 1.        , 1.        , 0.3511579 , 0.7780653 ],\n",
       "       [1.        , 0.65837613, 0.1197139 , 0.        , 0.41997589]])"
      ]
     },
     "execution_count": 14,
     "metadata": {},
     "output_type": "execute_result"
    }
   ],
   "source": [
    "for i in range(values.shape[1]):\n",
    "    values[:,i] = (values[:,i] - values[:,i].min()) / (values[:,i].max() - values[:,i].min())\n",
    "values"
   ]
  },
  {
   "cell_type": "code",
   "execution_count": 15,
   "metadata": {},
   "outputs": [
    {
     "data": {
      "text/plain": [
       "{'A': [0.037240501819825654, 0.6859716553441149, 0.3113890015343759, 1.0, 1.0],\n",
       " 'B': [0.5974564406132968, 0.0, 0.0, 0.6968623978039642, 0.0],\n",
       " 'C': [0.552425092268427,\n",
       "  0.4617444837328736,\n",
       "  0.2974995405146215,\n",
       "  0.8555869869379676,\n",
       "  0.31783757222884035],\n",
       " 'D': [0.0, 1.0, 1.0, 0.3511578974506942, 0.7780652960402179],\n",
       " 'E': [1.0, 0.6583761349368865, 0.11971389802901719, 0.0, 0.41997589222809106]}"
      ]
     },
     "execution_count": 15,
     "metadata": {},
     "output_type": "execute_result"
    }
   ],
   "source": [
    "new_data = {}\n",
    "keys = list(merge_data.keys())\n",
    "for i in range(len(keys)):\n",
    "    new_data[keys[i]] = list(values[i])\n",
    "new_data"
   ]
  },
  {
   "cell_type": "code",
   "execution_count": 16,
   "metadata": {},
   "outputs": [
    {
     "name": "stdout",
     "output_type": "stream",
     "text": [
      "{'A': 0.6746258953874581, 'B': 0.7060434617622787, 'C': 0.7594078044481591, 'D': 0.7511309659251039}\n"
     ]
    }
   ],
   "source": [
    "dist = {}\n",
    "for k, v in data.items():\n",
    "    if k != 'E':\n",
    "        dist[k] = cos_dist(new_data['E'], v)\n",
    "print(dist)"
   ]
  },
  {
   "cell_type": "code",
   "execution_count": 17,
   "metadata": {},
   "outputs": [
    {
     "data": {
      "text/plain": [
       "[('A', 0.6746258953874581),\n",
       " ('B', 0.7060434617622787),\n",
       " ('D', 0.7511309659251039),\n",
       " ('C', 0.7594078044481591)]"
      ]
     },
     "execution_count": 17,
     "metadata": {},
     "output_type": "execute_result"
    }
   ],
   "source": [
    "dist = sorted(dist.items(), key = lambda x: x[1])\n",
    "dist"
   ]
  },
  {
   "cell_type": "code",
   "execution_count": 18,
   "metadata": {},
   "outputs": [
    {
     "name": "stdout",
     "output_type": "stream",
     "text": [
      "{'A': 0.6746258953874581, 'B': 0.7060434617622787, 'D': 0.7511309659251039}\n"
     ]
    }
   ],
   "source": [
    "#输出排在前三的结果\n",
    "print(dict(dist[:3]))"
   ]
  },
  {
   "cell_type": "code",
   "execution_count": null,
   "metadata": {
    "collapsed": true
   },
   "outputs": [],
   "source": []
  }
 ],
 "metadata": {
  "kernelspec": {
   "display_name": "Python 3",
   "language": "python",
   "name": "python3"
  },
  "language_info": {
   "codemirror_mode": {
    "name": "ipython",
    "version": 3
   },
   "file_extension": ".py",
   "mimetype": "text/x-python",
   "name": "python",
   "nbconvert_exporter": "python",
   "pygments_lexer": "ipython3",
   "version": "3.6.1"
  }
 },
 "nbformat": 4,
 "nbformat_minor": 2
}
